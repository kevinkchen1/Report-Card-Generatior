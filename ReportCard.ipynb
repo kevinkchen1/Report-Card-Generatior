{
 "cells": [
  {
   "cell_type": "code",
   "execution_count": 1,
   "metadata": {},
   "outputs": [
    {
     "name": "stdout",
     "output_type": "stream",
     "text": [
      "Barrett\tEdan\t70\t45\t59:  F\n",
      "Bradshaw\tReagan\t96\t97\t88:  A\n",
      "Charlton\tCaius\t73\t94\t80:  B\n",
      "Mayo\tTyrese\t88\t61\t36:  D\n",
      "Stern\tBrenda\t90\t86\t45:  C\n",
      "\n",
      "Averages: midterm1 83.40, midterm2 76.60, final 61.60\n",
      "\n"
     ]
    }
   ],
   "source": [
    "file = open('StudentInfo.tsv', 'r')\n",
    "lines = file.readlines()\n",
    "\n",
    "grades = []\n",
    "all_mid1 = []\n",
    "all_mid2 = []\n",
    "all_final = []\n",
    "for line in lines:\n",
    "    seperate = line.split()\n",
    "    midterm1 = int(seperate[2])\n",
    "    all_mid1.append(midterm1)\n",
    "    midterm2 = int(seperate[3])\n",
    "    all_mid2.append(midterm2)\n",
    "    final = int(seperate[4])\n",
    "    all_final.append(final)\n",
    "    scores = []\n",
    "    for index in range(2,5):\n",
    "            score = 0\n",
    "            score += int(seperate[index])\n",
    "            scores.append(score)\n",
    "            if(len(scores)) == 3:\n",
    "                avg = sum(scores)/len(scores)\n",
    "                if avg >= 90:\n",
    "                    grades.append('A')\n",
    "                elif avg >= 80:\n",
    "                    grades.append('B')\n",
    "                elif avg >= 70:\n",
    "                    grades.append('C')\n",
    "                elif avg >= 60:\n",
    "                    grades.append('D')\n",
    "                elif avg < 60:\n",
    "                    grades.append('F')\n",
    "\n",
    "mid1_avg = sum(all_mid1)/len(all_mid1)\n",
    "mid2_avg = sum(all_mid2)/len(all_mid2)\n",
    "final_avg = sum(all_final)/len(all_final)\n",
    "count = -1\n",
    "for line in lines:\n",
    "    count += 1\n",
    "    no_newline = line.strip()\n",
    "    print(no_newline, end = ':  ') \n",
    "    print(grades[count])\n",
    "print()\n",
    "print(f'Averages: midterm1 {mid1_avg:.2f}, midterm2 {mid2_avg:.2f}, final {final_avg:.2f}\\n')"
   ]
  }
 ],
 "metadata": {
  "kernelspec": {
   "display_name": "Python 3.10.4 64-bit",
   "language": "python",
   "name": "python3"
  },
  "language_info": {
   "codemirror_mode": {
    "name": "ipython",
    "version": 3
   },
   "file_extension": ".py",
   "mimetype": "text/x-python",
   "name": "python",
   "nbconvert_exporter": "python",
   "pygments_lexer": "ipython3",
   "version": "3.10.4"
  },
  "orig_nbformat": 4,
  "vscode": {
   "interpreter": {
    "hash": "aee8b7b246df8f9039afb4144a1f6fd8d2ca17a180786b69acc140d282b71a49"
   }
  }
 },
 "nbformat": 4,
 "nbformat_minor": 2
}
